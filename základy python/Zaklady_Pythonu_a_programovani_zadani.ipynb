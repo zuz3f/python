{
  "nbformat": 4,
  "nbformat_minor": 0,
  "metadata": {
    "orig_nbformat": 4,
    "language_info": {
      "name": "python",
      "version": "3.9.5",
      "mimetype": "text/x-python",
      "codemirror_mode": {
        "name": "ipython",
        "version": 3
      },
      "pygments_lexer": "ipython3",
      "nbconvert_exporter": "python",
      "file_extension": ".py"
    },
    "kernelspec": {
      "name": "python3",
      "display_name": "Python 3.9.5 64-bit"
    },
    "interpreter": {
      "hash": "4690a46bf19826a064b130b852b5a95adf43f49c384d6da70bea0deb3c5cfe45"
    },
    "colab": {
      "name": "Zaklady_Pythonu_a_programovani_zadani.ipynb",
      "provenance": [],
      "collapsed_sections": [],
      "include_colab_link": true
    }
  },
  "cells": [
    {
      "cell_type": "markdown",
      "metadata": {
        "id": "view-in-github",
        "colab_type": "text"
      },
      "source": [
        "<a href=\"https://colab.research.google.com/github/JaroslavHolecek/Teaching/blob/master/JupyterNotebook/Python/Zaklady_Pythonu_a_programovani_zadani.ipynb\" target=\"_parent\"><img src=\"https://colab.research.google.com/assets/colab-badge.svg\" alt=\"Open In Colab\"/></a>"
      ]
    },
    {
      "cell_type": "markdown",
      "metadata": {
        "id": "KvIVm1lI6LuJ"
      },
      "source": [
        "# Princip programování\n",
        "Principem programování je zapsání (postupu) algoritmu (např. algoritmu pro řešení kvadratické rovnice) do jazyka, kterému rozumí počítač - pokud se nám to podaří, počítač tento postup (algoritmus) provede za nás a my si tím ušetříme spoustu práce.\n",
        "\n",
        "Postup (algoritmus) a tím i náš program (pokud se nám povede zapsat algoritmus správně) má několik důležitých vlastností:\n",
        "1. <strong>Obecnost</strong> - postup nefunguje pouze pro jeden konkrétní příklad (např. pro $3x^2 - 2x + 1 = 0$), ale pro ideálně všechny příklady daného typu ( zde všechny kvadratické rovnice )\n",
        "2. <strong>Správnost</strong> - postup dojde vždy ke správnému výsledku (tedy, ne že to někdy vyjde a někdy ne...)\n",
        "3. <strong>Konečnost</strong> - postup dojde k výsledku po konečném počtu kroků (algoritmus, který sice najde správný výsledek, ale trvá mu to nekonečně dlouho pro nás není v tuto chvíli zajímavý )\n",
        "4. <strong>Elementárnost</strong> - postup se skládá z <strong>jednoduchých</strong> menších kroků. V obecném životě je \"jednoduchost\" těžké určit - v programování jsme omezeni tím, které operace umí programovací jazyk, který jsme si vybrali.\n",
        "5. <strong>Determinovanost</strong> - předurčenost - v každém okamžiku postupu je předem jasně dané, co se má stát/vykonat. Pokud provedeme postup opakovaně na stejném vstupu, dostaneme vždy stejný výsledek.\n",
        "\n",
        "Předtím, než se vrhneme do psaní kódu je důležité dobře pochopit náš problém a algoritmus, který tento problém řeší -> nebudeme totiž dělat nic jiného, než zapisovat tento algoritmus a těžko zapsat něco, čemu nerozumíme...\n",
        "\n",
        "## Sémantika\n",
        "Sémantika označuje \"význam\" programu. O automatické zjištění sémantiky programu se snaží například antivirové programy - zřejmě tušíte, že je to velmi složitá úloha - a to je také hlavní díl práce programátora - zajistit, aby program měl správnou sémantiku (tedy dělal to, \"co má dělat\")\n",
        "\n",
        "##Syntax\n",
        "Syntax jsou pravidla, podle kterých program píšeme - aby našim požadavkům počítač rozumněl. Pravidla českého jazyka (shoda podmětu s přísudkem, pády, rody, koncovky, ...) jsou syntax českého jazyka.\n",
        "\n",
        "#Python\n",
        "Python je <strong>interpretovaný</strong> programovací jazyk. To znamená, že existuje již vytvořený program (aplikace), kterému říkáme  <strong>interpret</strong>, a ten čte naše příkazy a předává je dále do počítače k vykonání. Tento interpret se shodou okolností jmenuje stejně jako celý programovací jazyk - <strong>Python</strong>.\n",
        "\n",
        "Program který tvoříme je \"posloupnost\" příkazů - v obyčejném textovém souboru (který má pro identifikaci koncovku .py , ale je v něm obyčejný text). Tomuto souboru (textu v něm) ríkáme <strong>zdrojový kód</strong>.\n",
        "\n",
        "Příkazy ve zdrojovém kódu se vykonávají odshora dolů, tedy: začne se příkazem na prvním řádku, pokračuje se příkazem na druhém řádku atd.. Toto pořadí jde změnit pomocí tak zvaných <strong>řídících struktur</strong> které si ukážeme později.\n",
        "\n",
        "V Pythonu píšeme vždy <strong>jeden příkaz na jeden řádek</strong>. "
      ]
    },
    {
      "cell_type": "markdown",
      "metadata": {
        "id": "gWKgEUvQ6Luc"
      },
      "source": [
        "# Příkaz print\n",
        "Pomocí příkazu (funkce) ```print()``` vypíšeme libovolnou hodnotu na obrazovku(do konzole/příkazového řádku)."
      ]
    },
    {
      "cell_type": "code",
      "metadata": {
        "id": "lMA7uqML6Lui"
      },
      "source": [
        "print(\"ahoj světe\")\n",
        "print(\"jedna\", \"dva\")\n",
        "print(1, 2)"
      ],
      "execution_count": null,
      "outputs": []
    },
    {
      "cell_type": "markdown",
      "metadata": {
        "id": "qo4PW_of6Luu"
      },
      "source": [
        "# Proměnné\n",
        "Proměnná je místo v paměti počítače, kde je uložená libovolná hodnota( např. číslo, text, ...).\n",
        "\n",
        "Každá proměnná má svůj <strong>název</strong> (které jí určime my), <strong>datový typ</strong> ( který určí Python podle toho, co do proměnné uložíme - o datových typech bude řeč později) a <strong>hodnotu</strong>.\n",
        "\n",
        "Zde vytvářím proměnnou `number` (datového typu integer) a ukládám do ní hodnotu 10.\n"
      ]
    },
    {
      "cell_type": "code",
      "metadata": {
        "id": "gBodNVQ36Luw"
      },
      "source": [
        "number = 10"
      ],
      "execution_count": null,
      "outputs": []
    },
    {
      "cell_type": "markdown",
      "metadata": {
        "id": "iIdqlLMk6Luy"
      },
      "source": [
        "# Příkaz input\n",
        "Funkce ```input()``` slouží pro vstup dat od uživatele.\n",
        "\n",
        "Může požadovat čistě jen vstup, nebo lze vypsat text před tím, než bude očekávát vstup.\n",
        "\n",
        "Pomocí proměnné lze vstup od uživatele uložit, a to následovně."
      ]
    },
    {
      "cell_type": "markdown",
      "metadata": {
        "id": "9uIyLAfV6Luz"
      },
      "source": [
        "Co vypíše následující blok kódu?"
      ]
    },
    {
      "cell_type": "code",
      "metadata": {
        "id": "Hmjq28w46Lu2"
      },
      "source": [
        "user_input = input()\n",
        "user_input2 = input(\"Zadej své oblíbené jídlo: \")\n",
        "print(user_input, user_input2)"
      ],
      "execution_count": null,
      "outputs": []
    },
    {
      "cell_type": "markdown",
      "metadata": {
        "id": "dMpLbBKy6Lu6"
      },
      "source": [
        "# Komentáře\n",
        "Komentáře jsou text který interpret nevidí (přeskakuje ho), a nemá vliv na chod programu.\n",
        "\n",
        "Používají se většinou pro popis částí kódu pro např. lehčí nebo rychlejší pochopení.\n",
        "\n",
        "V Pythonu vytvoříme komentář pomocí symbolu `#` - ten platí do konce řádku.\n",
        "\n",
        "Nebo text uzavřeme do trojitých uvozovek ```\"\"\" ... \"\"\"``` - takový komentář může být přes více řádků"
      ]
    },
    {
      "cell_type": "code",
      "metadata": {
        "id": "9JkOdQjx6Lu9"
      },
      "source": [
        "# Tento program tě pozdraví\n",
        "print(\"ahoj\") # funkce print() zobrazuje vše do konzole/příkazové řádky\n",
        "\"\"\" Tady bych Vám\n",
        "chtěl ukázat\n",
        "víceřádkový komentář\"\"\"\n",
        "\n",
        "print(\"Nashledanou v další lekci\")\n"
      ],
      "execution_count": null,
      "outputs": []
    },
    {
      "cell_type": "markdown",
      "metadata": {
        "id": "IoObJT03UJ2G"
      },
      "source": [
        "V tomto sešitu není žádné cvičení, neboť není co procvičovat - v dalších sešitech si budete moct vyzkoušet napsat jednoduchý program a zkontrolovat, zda je správně. "
      ]
    }
  ]
}